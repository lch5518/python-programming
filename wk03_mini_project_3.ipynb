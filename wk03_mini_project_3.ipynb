{
 "cells": [
  {
   "cell_type": "markdown",
   "metadata": {},
   "source": [
    "# wk03_Mini_Project_3:  Stop Watch"
   ]
  },
  {
   "cell_type": "markdown",
   "metadata": {
    "heading_collapsed": true
   },
   "source": [
    "###  프로젝트 요구사항 설명서 (스톱와치 게임)"
   ]
  },
  {
   "cell_type": "markdown",
   "metadata": {
    "hidden": true
   },
   "source": [
    "게임 개요: <br>\n",
    "스톱와치의 Start 버튼을 누르면, canvas 에서 시간은 현재(멈춘)시간에서  0.1초 단위로 증가하기 시작한다.<br>\n",
    "플레이어는 0.1초 단위가 0으로 바뀌는 순간 Stop 버튼을 눌러야 한다.<br>\n",
    "canvas 에 몇번 시도(y)해서 몇번 성공(x) 했는지를 x/y 형태로 나타난다.<br>\n",
    "Reset 버튼을 누르면 초기화 된다."
   ]
  },
  {
   "cell_type": "markdown",
   "metadata": {
    "hidden": true
   },
   "source": [
    "매 단계마다 요구사항을 코딩한 후, 프로그램을 실행하여 요구사항이 잘 코딩 되었는지 확인하여야 한다. "
   ]
  },
  {
   "cell_type": "markdown",
   "metadata": {
    "hidden": true
   },
   "source": [
    "**1 단계**<br>\n",
    "0.1 초마다 event handler가 global integer를 1씩 증가시키는 타이머를 작성하라. (<span style=\"color:red\">create_timer</span> 에서 interval은 milliseconds 단위임에 유의하라.) <br>\n",
    "이 integer는 10분의 1초 단위로 시간을 나타낸다. 이 global integer를 콘솔에 print 하여 타이머를 맞게 설정하였는지 테스트하라.<br>\n",
    "주의:시간을 나타낼 때 10분의 1초까지 나타낸다고 float를 사용해서는 안된다. floating point의 부정확성 때문에 문제가 생긴다. 그대신에 integer를 사용하라. 예를 들면, integer 12는 1.2초를 나타낸다."
   ]
  },
  {
   "cell_type": "markdown",
   "metadata": {
    "hidden": true
   },
   "source": [
    "**2 단계**<br>\n",
    "현재 시간(integer 형태, 아직 formatting에 관해서는 걱정하지 마라.)을 canvas 가운데에 그려주는 event handler 함수를 작성하라.<br>\n",
    "canvas에 그리기 전에 현재시간을 <span style=\"color:red\">str</span>으로 바꾸어야 한다."
   ]
  },
  {
   "cell_type": "markdown",
   "metadata": {
    "hidden": true
   },
   "source": [
    "**3 단계**<br>\n",
    "event handler들이 타이머를 start 시키고, stop시키는, \"Start\" button 및 \"Stop\" button을 추가하라.<br>\n",
    "그 다음, 타이머를 stop 시키고, 현재 시간을 0 으로 리셋시키는 \"Reset\" button을 추가하라.<br>\n",
    "frame 이 open 될 때, 스톱와치는 멈추어 있어야 한다."
   ]
  },
  {
   "cell_type": "markdown",
   "metadata": {
    "hidden": true
   },
   "source": [
    "**4 단계**<br>\n",
    "string 형태의 <span style=\"color:red\">**A:BC.D**</span> 를 반환하는 helper function <span style=\"color:red\">format(t)</span> 를 작성하라.<br>  여기에서 <span style=\"color:red\">A,C</span> 와 <span style=\"color:red\">D</span> 의 범위는 0 - 9 이고, <span style=\"color:red\">B</span> 의 범위는 0 - 5 이다.<br>\n",
    "아래에 제공된 helper function 테스트 프로그램을 이용하여 작성한 <span style=\"color:red\">format(t)</span> 의 오류여부를 확인하라.<br>\n",
    "leading zero 가 필요한지를 체크해야 한다.<br>\n",
    "예를 들면,<br> \n",
    "<span style=\"color:red\">format(0) = 0:00.0<br>  format(11) = 0:01.1<br>   format(321) = 0:32.1<br>    format(613) = 1:01.3</span>"
   ]
  },
  {
   "cell_type": "markdown",
   "metadata": {
    "hidden": true
   },
   "source": [
    "**5 단계**<br>\n",
    "draw handler 에서 <span style=\"color:red\">format(t)</span> 함수를 호출하라. (스톱와치는 10분까지 정상작동 하여야 한다. 그 이후의 행동은 여러분 마음대로 처리한다.)"
   ]
  },
  {
   "cell_type": "markdown",
   "metadata": {
    "hidden": true
   },
   "source": [
    "**6 단계**<br>\n",
    "Stop 버튼을 누른 횟수를 세는 counter와 성공한(예, 1.0 초, 2.0 초 , ... 등) 횟수를 세는 counter를 이용하여, canvas의 오른쪽  윗부분에 <span style=\"color:red\">\"x/y\"</span> 형태로 그려라.<br>\n",
    "여기에서 <span style=\"color:red\">x</span>는 성공한 횟수이고, <span style=\"color:red\">y</span>는 시도한(즉, Stop button을 누른) 횟수이다. "
   ]
  },
  {
   "cell_type": "markdown",
   "metadata": {
    "hidden": true
   },
   "source": [
    "**7 단계**<br>\n",
    "타이머가 이미 멈춘 상태에서, Stop button을 다시 눌렀을 때, score(즉 <span style=\"color:red\">\"x/y\"</span>) 에 변화가 있으면 안된다.<br>\n",
    "이렇게 하기 위해, stopwatch가 작동할 때 <span style=\"color:red\">True</span> 이고, stopwatch 가 멈출 때 <span style=\"color:red\">False</span>가 되는  global Boolean variable을 사용할 것을 권고한다."
   ]
  },
  {
   "cell_type": "markdown",
   "metadata": {
    "hidden": true
   },
   "source": [
    "**8 단계**<br>\n",
    "Reset 을 클릭할 때, counter 들이 0 이 되도록 하라."
   ]
  },
  {
   "cell_type": "markdown",
   "metadata": {
    "heading_collapsed": true
   },
   "source": [
    "## Project Templete"
   ]
  },
  {
   "cell_type": "code",
   "execution_count": 1,
   "metadata": {},
   "outputs": [
    {
     "name": "stdout",
     "output_type": "stream",
     "text": [
      "pygame 1.9.4\n",
      "Hello from the pygame community. https://www.pygame.org/contribute.html\n"
     ]
    }
   ],
   "source": [
    "import SimpleGUICS2Pygame.simpleguics2pygame as simplegui\n",
    "\n",
    "WIDTH = 300\n",
    "HEIGHT = 200\n",
    "\n",
    "time = 0\n",
    "stopwatch = '0:00.0'\n",
    "numstops = 0\n",
    "numwholesec = 0\n",
    "milseconds = 0\n",
    "isrunning = False\n",
    "\n",
    "# define helper function format that converts time\n",
    "# in tenths of seconds into formatted string A:BC.D\n",
    "def format(t):\n",
    "    global stopwatch, milseconds \n",
    "    minutes = t / 600\n",
    "    tensseconds = ((t / 10) % 60) / 10\n",
    "    seconds = ((t / 10) % 60) % 10\n",
    "    milseconds = t % 10\n",
    "    stopwatch = str(minutes) + ':' + str (tensseconds) + str(seconds) + '.' + str(milseconds)    \n",
    "\n",
    "# define event handlers for buttons; \"Start\", \"Stop\", \"Reset\"\n",
    "def start_handler():\n",
    "    timer.start()\n",
    "    \n",
    "def stop_handler():\n",
    "    global numstops, numwholesec, isrunning\n",
    "    timer.stop()\n",
    "    if isrunning:\n",
    "        numstops += 1\n",
    "    if milseconds == 0 and isrunning:\n",
    "        numwholesec += 1\n",
    "    isrunning = False    \n",
    "    \n",
    "def reset_handler():\n",
    "    global time, stopwatch, numstops, numwholesec, isrunning\n",
    "\n",
    "    timer.stop()\n",
    "    time = 0\n",
    "    numstops = 0\n",
    "    numwholesec = 0\n",
    "    isrunning = False\n",
    "    stopwatch = '0:00.0'\n",
    "    \n",
    "# define event handler for timer with 0.1 sec interval\n",
    "def timer_handler():\n",
    "    global time, isrunning\n",
    "    isrunning = True\n",
    "    time += 1\n",
    "    format(time)\n",
    "    \n",
    "# define draw handler\n",
    "def draw_handler(canvas):\n",
    "    canvas.draw_text(stopwatch, (WIDTH/2, HEIGHT/2), 45, 'White')\n",
    "    canvas.draw_text(str(numwholesec) + '/' + str(numstops), (250, 30), 28, 'Yellow')\n",
    "    \n",
    "# create frame\n",
    "frame = simplegui.create_frame('Stop watch', WIDTH, HEIGHT, 100)\n",
    "frame.set_canvas_background('Black')\n",
    "\n",
    "# register event handlers\n",
    "timer = simplegui.create_timer(100, timer_handler)\n",
    "frame.set_draw_handler(draw_handler)\n",
    "start = frame.add_button('Start', start_handler, 100)\n",
    "stop = frame.add_button('Stop', stop_handler, 100)\n",
    "reset = frame.add_button('Reset', reset_handler, 100)\n",
    "\n",
    "# start frame\n",
    "frame.start()"
   ]
  },
  {
   "cell_type": "code",
   "execution_count": 1,
   "metadata": {},
   "outputs": [
    {
     "name": "stdout",
     "output_type": "stream",
     "text": [
      "pygame 1.9.4\n",
      "Hello from the pygame community. https://www.pygame.org/contribute.html\n"
     ]
    },
    {
     "ename": "AssertionError",
     "evalue": "<class 'float'>",
     "output_type": "error",
     "traceback": [
      "\u001b[1;31m---------------------------------------------------------------------------\u001b[0m",
      "\u001b[1;31mAssertionError\u001b[0m                            Traceback (most recent call last)",
      "\u001b[1;32m<ipython-input-1-f3ef1e19d7b7>\u001b[0m in \u001b[0;36m<module>\u001b[1;34m()\u001b[0m\n\u001b[0;32m     44\u001b[0m \u001b[1;33m\u001b[0m\u001b[0m\n\u001b[0;32m     45\u001b[0m \u001b[0mtimer\u001b[0m\u001b[1;33m.\u001b[0m\u001b[0mstart\u001b[0m\u001b[1;33m(\u001b[0m\u001b[1;33m)\u001b[0m\u001b[1;33m\u001b[0m\u001b[0m\n\u001b[1;32m---> 46\u001b[1;33m \u001b[0mf\u001b[0m\u001b[1;33m.\u001b[0m\u001b[0mstart\u001b[0m\u001b[1;33m(\u001b[0m\u001b[1;33m)\u001b[0m\u001b[1;33m\u001b[0m\u001b[0m\n\u001b[0m\u001b[0;32m     47\u001b[0m \u001b[1;33m\u001b[0m\u001b[0m\n",
      "\u001b[1;32m~\\Anaconda3\\lib\\site-packages\\SimpleGUICS2Pygame\\simpleguics2pygame.py\u001b[0m in \u001b[0;36mstart\u001b[1;34m(self)\u001b[0m\n\u001b[0;32m   1963\u001b[0m         \u001b[1;32mwhile\u001b[0m \u001b[0mself\u001b[0m\u001b[1;33m.\u001b[0m\u001b[0m_running\u001b[0m\u001b[1;33m:\u001b[0m\u001b[1;33m\u001b[0m\u001b[0m\n\u001b[0;32m   1964\u001b[0m             \u001b[1;31m# Draw canvas\u001b[0m\u001b[1;33m\u001b[0m\u001b[1;33m\u001b[0m\u001b[0m\n\u001b[1;32m-> 1965\u001b[1;33m             \u001b[0mself\u001b[0m\u001b[1;33m.\u001b[0m\u001b[0m_canvas\u001b[0m\u001b[1;33m.\u001b[0m\u001b[0m_draw\u001b[0m\u001b[1;33m(\u001b[0m\u001b[1;33m)\u001b[0m\u001b[1;33m\u001b[0m\u001b[0m\n\u001b[0m\u001b[0;32m   1966\u001b[0m \u001b[1;33m\u001b[0m\u001b[0m\n\u001b[0;32m   1967\u001b[0m             \u001b[1;31m# Save canvas images\u001b[0m\u001b[1;33m\u001b[0m\u001b[1;33m\u001b[0m\u001b[0m\n",
      "\u001b[1;32m~\\Anaconda3\\lib\\site-packages\\SimpleGUICS2Pygame\\simpleguics2pygame.py\u001b[0m in \u001b[0;36m_draw\u001b[1;34m(self)\u001b[0m\n\u001b[0;32m   2210\u001b[0m                     self._background_pygame_surface_image, (0, 0))\n\u001b[0;32m   2211\u001b[0m \u001b[1;33m\u001b[0m\u001b[0m\n\u001b[1;32m-> 2212\u001b[1;33m             \u001b[0mself\u001b[0m\u001b[1;33m.\u001b[0m\u001b[0m_draw_handler\u001b[0m\u001b[1;33m(\u001b[0m\u001b[0mself\u001b[0m\u001b[1;33m)\u001b[0m\u001b[1;33m\u001b[0m\u001b[0m\n\u001b[0m\u001b[0;32m   2213\u001b[0m \u001b[1;33m\u001b[0m\u001b[0m\n\u001b[0;32m   2214\u001b[0m             \u001b[1;32mif\u001b[0m \u001b[0mself\u001b[0m\u001b[1;33m.\u001b[0m\u001b[0m_frame_parent\u001b[0m\u001b[1;33m.\u001b[0m\u001b[0m_display_fps_average\u001b[0m\u001b[1;33m:\u001b[0m\u001b[1;33m\u001b[0m\u001b[0m\n",
      "\u001b[1;32m<ipython-input-1-f3ef1e19d7b7>\u001b[0m in \u001b[0;36mdraw\u001b[1;34m(canvas)\u001b[0m\n\u001b[0;32m     24\u001b[0m \u001b[1;33m\u001b[0m\u001b[0m\n\u001b[0;32m     25\u001b[0m \u001b[1;32mdef\u001b[0m \u001b[0mdraw\u001b[0m\u001b[1;33m(\u001b[0m\u001b[0mcanvas\u001b[0m\u001b[1;33m)\u001b[0m\u001b[1;33m:\u001b[0m\u001b[1;33m\u001b[0m\u001b[0m\n\u001b[1;32m---> 26\u001b[1;33m      \u001b[0mcanvas\u001b[0m\u001b[1;33m.\u001b[0m\u001b[0mdraw_text\u001b[0m\u001b[1;33m(\u001b[0m\u001b[1;34m\"test\"\u001b[0m\u001b[1;33m,\u001b[0m\u001b[0mWIDTH\u001b[0m\u001b[1;33m/\u001b[0m\u001b[1;36m2\u001b[0m\u001b[1;33m,\u001b[0m\u001b[0mHEIGHT\u001b[0m\u001b[1;33m/\u001b[0m\u001b[1;36m2\u001b[0m\u001b[1;33m,\u001b[0m\u001b[1;34m'White'\u001b[0m\u001b[1;33m)\u001b[0m\u001b[1;33m\u001b[0m\u001b[0m\n\u001b[0m\u001b[0;32m     27\u001b[0m \u001b[1;33m\u001b[0m\u001b[0m\n\u001b[0;32m     28\u001b[0m \u001b[1;32mdef\u001b[0m \u001b[0mstart\u001b[0m\u001b[1;33m(\u001b[0m\u001b[1;33m)\u001b[0m\u001b[1;33m:\u001b[0m\u001b[1;33m\u001b[0m\u001b[0m\n",
      "\u001b[1;32m~\\Anaconda3\\lib\\site-packages\\SimpleGUICS2Pygame\\simpleguics2pygame.py\u001b[0m in \u001b[0;36mdraw_text\u001b[1;34m(self, text, point, font_size, font_color, font_face, _font_size_coef)\u001b[0m\n\u001b[0;32m   2785\u001b[0m         \u001b[1;32massert\u001b[0m \u001b[0misinstance\u001b[0m\u001b[1;33m(\u001b[0m\u001b[0mtext\u001b[0m\u001b[1;33m,\u001b[0m \u001b[0mstr\u001b[0m\u001b[1;33m)\u001b[0m\u001b[1;33m,\u001b[0m \u001b[0mtype\u001b[0m\u001b[1;33m(\u001b[0m\u001b[0mtext\u001b[0m\u001b[1;33m)\u001b[0m\u001b[1;33m\u001b[0m\u001b[0m\n\u001b[0;32m   2786\u001b[0m \u001b[1;33m\u001b[0m\u001b[0m\n\u001b[1;32m-> 2787\u001b[1;33m         \u001b[1;32massert\u001b[0m \u001b[0misinstance\u001b[0m\u001b[1;33m(\u001b[0m\u001b[0mpoint\u001b[0m\u001b[1;33m,\u001b[0m \u001b[0mtuple\u001b[0m\u001b[1;33m)\u001b[0m \u001b[1;32mor\u001b[0m \u001b[0misinstance\u001b[0m\u001b[1;33m(\u001b[0m\u001b[0mpoint\u001b[0m\u001b[1;33m,\u001b[0m \u001b[0mlist\u001b[0m\u001b[1;33m)\u001b[0m\u001b[1;33m,\u001b[0m \u001b[0mtype\u001b[0m\u001b[1;33m(\u001b[0m\u001b[0mpoint\u001b[0m\u001b[1;33m)\u001b[0m\u001b[1;33m\u001b[0m\u001b[0m\n\u001b[0m\u001b[0;32m   2788\u001b[0m         \u001b[1;32massert\u001b[0m \u001b[0mlen\u001b[0m\u001b[1;33m(\u001b[0m\u001b[0mpoint\u001b[0m\u001b[1;33m)\u001b[0m \u001b[1;33m==\u001b[0m \u001b[1;36m2\u001b[0m\u001b[1;33m,\u001b[0m \u001b[0mlen\u001b[0m\u001b[1;33m(\u001b[0m\u001b[0mpoint\u001b[0m\u001b[1;33m)\u001b[0m\u001b[1;33m\u001b[0m\u001b[0m\n\u001b[0;32m   2789\u001b[0m         \u001b[1;32massert\u001b[0m \u001b[0misinstance\u001b[0m\u001b[1;33m(\u001b[0m\u001b[0mpoint\u001b[0m\u001b[1;33m[\u001b[0m\u001b[1;36m0\u001b[0m\u001b[1;33m]\u001b[0m\u001b[1;33m,\u001b[0m \u001b[0mint\u001b[0m\u001b[1;33m)\u001b[0m \u001b[1;32mor\u001b[0m \u001b[0misinstance\u001b[0m\u001b[1;33m(\u001b[0m\u001b[0mpoint\u001b[0m\u001b[1;33m[\u001b[0m\u001b[1;36m0\u001b[0m\u001b[1;33m]\u001b[0m\u001b[1;33m,\u001b[0m \u001b[0mfloat\u001b[0m\u001b[1;33m)\u001b[0m\u001b[1;33m,\u001b[0m\u001b[0;31m \u001b[0m\u001b[0;31m\\\u001b[0m\u001b[1;33m\u001b[0m\u001b[0m\n",
      "\u001b[1;31mAssertionError\u001b[0m: <class 'float'>"
     ]
    },
    {
     "name": "stdout",
     "output_type": "stream",
     "text": [
      "00:01\n",
      "00:02\n",
      "00:03\n",
      "00:04\n",
      "00:05\n",
      "00:06\n",
      "00:07\n",
      "00:08\n",
      "00:09\n"
     ]
    }
   ],
   "source": [
    "import SimpleGUICS2Pygame.simpleguics2pygame as simplegui\n",
    "import random\n",
    "\n",
    "WIDTH = 600\n",
    "HEIGHT = 400\n",
    "\n",
    "seconds = 0\n",
    "minutes = 0\n",
    "\n",
    "def increment():\n",
    "    global seconds, minutes\n",
    "    seconds += 1\n",
    "    if seconds == 60:\n",
    "        minutes += 1\n",
    "        seconds = 0\n",
    "    if minutes < 10 and seconds < 10:\n",
    "        print('0' + str(minutes) + ':0' + str(seconds))\n",
    "    elif minutes < 10 and seconds >= 10:\n",
    "        print('0' + str(minutes) + ':' + str(seconds))\n",
    "    elif minutes >= 10 and seconds < 10:\n",
    "        print(str(minutes) + ':0' + str(seconds)) \n",
    "    else:\n",
    "        print(str(minutes) + ':' + str(seconds))\n",
    "        \n",
    "def draw(canvas):\n",
    "     canvas.draw_text(\"test\",WIDTH/2,HEIGHT/2,'White')\n",
    "        \n",
    "def start():\n",
    "    timer.start()\n",
    "def stop():\n",
    "    timer.stop()\n",
    "def reset():\n",
    "    global seconds, minutes\n",
    "    seconds = 0\n",
    "    minutes = 0\n",
    "    \n",
    "timer = simplegui.create_timer(1000, increment)\n",
    "\n",
    "f = simplegui.create_frame('Stopwatch',WIDTH,HEIGHT)\n",
    "f.set_draw_handler(draw)\n",
    "f.add_button(\"Start\",start,100)\n",
    "f.add_button(\"Stop\",stop,100)\n",
    "f.add_button(\"Reset\",reset,100)\n",
    "\n",
    "timer.start()\n",
    "f.start()\n",
    "\n",
    "\n"
   ]
  },
  {
   "cell_type": "code",
   "execution_count": null,
   "metadata": {
    "hidden": true
   },
   "outputs": [],
   "source": [
    "import SimpleGUICS2Pygame.simpleguics2pygame as simplegui\n",
    "import random\n",
    "# template for \"Stopwatch: The Game\"\n",
    "\n",
    "# define global variables\n",
    "\n",
    "\n",
    "# define helper function format that converts time\n",
    "# in tenths of seconds into formatted string A:BC.D\n",
    "def format(t):\n",
    "    pass\n",
    "    \n",
    "# define event handlers for buttons; \"Start\", \"Stop\", \"Reset\"\n",
    "\n",
    "\n",
    "# define event handler for timer with 0.1 sec interval\n",
    "\n",
    "\n",
    "# define draw handler\n",
    "\n",
    "    \n",
    "# create frame\n",
    "\n",
    "\n",
    "# register event handlers\n",
    "\n",
    "\n",
    "# start frame\n",
    "\n",
    "\n",
    "# Please remember to review the grading rubric\n"
   ]
  },
  {
   "cell_type": "markdown",
   "metadata": {
    "hidden": true
   },
   "source": [
    "### helper function 테스트 프로그램"
   ]
  },
  {
   "cell_type": "code",
   "execution_count": null,
   "metadata": {
    "hidden": true
   },
   "outputs": [],
   "source": [
    "# Testing template for format function in \"Stopwatch - The game\"\n",
    "\n",
    "###################################################\n",
    "# Student should add code for the format function here\n",
    "    \n",
    "    \n",
    "\n",
    "\n",
    "###################################################\n",
    "# Test code for the format function\n",
    "# Note that function should always return a string with \n",
    "# six characters\n",
    "\n",
    "\n",
    "print format(0)\n",
    "print format(7)\n",
    "print format(17)\n",
    "print format(60)\n",
    "print format(63)\n",
    "print format(214)\n",
    "print format(599)\n",
    "print format(600)\n",
    "print format(602)\n",
    "print format(667)\n",
    "print format(1325)\n",
    "print format(4567)\n",
    "print format(5999)\n",
    "\n",
    "###################################################\n",
    "# Output from test\n",
    "\n",
    "#0:00.0\n",
    "#0:00.7\n",
    "#0:01.7\n",
    "#0:06.0\n",
    "#0:06.3\n",
    "#0:21.4\n",
    "#0:59.9\n",
    "#1:00.0\n",
    "#1:00.2\n",
    "#1:06.7\n",
    "#2:12.5\n",
    "#7:36.7\n",
    "#9:59.9\n",
    "\n"
   ]
  }
 ],
 "metadata": {
  "kernelspec": {
   "display_name": "Python 3",
   "language": "python",
   "name": "python3"
  },
  "language_info": {
   "codemirror_mode": {
    "name": "ipython",
    "version": 3
   },
   "file_extension": ".py",
   "mimetype": "text/x-python",
   "name": "python",
   "nbconvert_exporter": "python",
   "pygments_lexer": "ipython3",
   "version": "3.6.5"
  }
 },
 "nbformat": 4,
 "nbformat_minor": 2
}
