{
 "cells": [
  {
   "cell_type": "markdown",
   "metadata": {},
   "source": [
    "# wk02_Mini_Project_2:  Guess the Number"
   ]
  },
  {
   "cell_type": "markdown",
   "metadata": {},
   "source": [
    "## 20140736 이창현"
   ]
  },
  {
   "cell_type": "markdown",
   "metadata": {},
   "source": [
    "###  프로젝트 요구사항 설명서 (숫자 맞추기 게임)"
   ]
  },
  {
   "cell_type": "markdown",
   "metadata": {},
   "source": [
    "매 단계마다 요구사항을 코딩한 후, 프로그램을 실행하여 요구사항이 잘 코딩 되었는지 확인하여야 한다. "
   ]
  },
  {
   "cell_type": "markdown",
   "metadata": {},
   "source": [
    "1 단계: handler 의 이름이 <span style=\"color:red\">input_guess</span> 인 input field 를 갖는 frame 을 작성한다.이 input field 는 추측한 숫자를 입력할 때 사용한다.."
   ]
  },
  {
   "cell_type": "markdown",
   "metadata": {},
   "source": [
    "2 단계: input string <span style=\"color:red\">guess</span>를 integer 형태로 바꾸고, 입력된 값(예를 들어 \"37\" 이라 하자.)에 대하여 <span style=\"color:red\"> \"Guess was 37\"</span> 이라 인쇄하는 event handler <span style=\"color:red\">input_guess(guess)</span>를 코딩한다."
   ]
  },
  {
   "cell_type": "markdown",
   "metadata": {},
   "source": [
    "3 단계: global variable <span style=\"color:red\">secret_number</span>가 무작위(random)로 <span style=\"color:red\">[0,100)</span> (100은 불포함)의 정수가 되도록 하는 함수 <span style=\"color:red\">new_game</span>을 코딩한다.  "
   ]
  },
  {
   "cell_type": "markdown",
   "metadata": {},
   "source": [
    "4 단계: 입력된 숫자와 <span style=\"color:red\">secret_number</span>를 비교하여 <span style=\"color:red\">\"Higher\"</span>, <span style=\"color:red\">\"Lower\"</span>, 또는 <span style=\"color:red\">\"Correct\"</span> 중 적절한 메세지를 인쇄하는 코드를 <span style=\"color:red\">input_guess(guess)</span>에 추가한다.  "
   ]
  },
  {
   "cell_type": "markdown",
   "metadata": {},
   "source": [
    "5 단계: <span style=\"color:red\">Range is [0,100)\"</span> 의 버튼과 <span style=\"color:red\">\"Range is [0,1000)\"</span>의 버튼을 추가하라.각 버튼의 경우, 게임을 restart 시키고, 적절한 메세지를 인쇄하라. 이 버튼들은 게임 도중 언제든지 작동해야 한다. 이 버튼이 눌러지면 secret number가 적절한 범위내에서 다시 선택되어야 한다. "
   ]
  },
  {
   "cell_type": "markdown",
   "metadata": {},
   "source": [
    "6 단계:(option) the player 선택할 수 있는 숫자의 횟수를 제한하고, 매번 guess가 이루어 지면, 남아있는 횟수를 하나씩 감소시켜, 0이 되면, player가 졌다는 메세지(<span style=\"color:red\">\"You lose! Secret number was 40.\"</span>)를 인쇄하라. 맞추면 <span style=\"color:red\">\"You win!\"</span> 을 인쇄하라. 게임이 시작 하자마자, 추측하는 숫자의 범위가 얼마인지, 남아있는 횟수가 몇번인지 메세지를 인쇄하라."
   ]
  },
  {
   "cell_type": "markdown",
   "metadata": {},
   "source": [
    "7 단계: 프로그램이 시작되면, [0,100)을 선택한 것으로 가정하고 <span style=\"color:red\">new_game()</span>을 호출함으로서 게임을 시작한다. 게임이 끝나면(이기거나 진 경우 모두), 직전에 선택한 범위로 <span style=\"color:red\">new_game()</span>을 호출함으로서 게임을 시작한다.  player가 어느 버튼이든지 클릭하면, 즉시, 현재 게임은 중지되고, 선택한 범위로 새로운 게임이 시작된다.\n"
   ]
  },
  {
   "cell_type": "markdown",
   "metadata": {},
   "source": [
    "## Project Templete"
   ]
  },
  {
   "cell_type": "code",
   "execution_count": null,
   "metadata": {
    "scrolled": true
   },
   "outputs": [
    {
     "name": "stdout",
     "output_type": "stream",
     "text": [
      "game start\n",
      "----\n",
      "Guess was :  50\n",
      "6\n",
      "Higher\n",
      "----\n",
      "Guess was :  75\n",
      "5\n",
      "Lower\n",
      "----\n",
      "Guess was :  60\n",
      "4\n",
      "Lower\n",
      "----\n",
      "Guess was :  57\n",
      "You win!\n",
      "new Start\n",
      "----\n",
      "Guess was :  50\n",
      "6\n",
      "Higher\n"
     ]
    }
   ],
   "source": [
    "# template for \"Guess the number\" mini-project\n",
    "# input will come from buttons and an input field\n",
    "# all output for the game will be printed in the console\n",
    "import SimpleGUICS2Pygame.simpleguics2pygame as simplegui\n",
    "import random\n",
    "i=0\n",
    "secret_number = 0\n",
    "# helper function to start and restart the game\n",
    "def new_game(guess):\n",
    "    # initialize global variables used in your code here\n",
    "    global secret_number\n",
    "    print(\"game start\")\n",
    "    n = int(guess)\n",
    "    secret_number = random.randrange(0,n)    \n",
    "    \n",
    "    \n",
    "\n",
    "# define event handlers for control panel\n",
    "def range100():\n",
    "    # button that changes the range to [0,100) and starts a new game \n",
    "    new_game(100)\n",
    "    global i\n",
    "    i = 7\n",
    "\n",
    "def range1000():\n",
    "    # button that changes the range to [0,1000) and starts a new game     \n",
    "    new_game(1000)\n",
    "    global i\n",
    "    i = 10\n",
    "    \n",
    "def input_guess(guess):\n",
    "    # main game logic goes here\t\n",
    "    n = int(guess)\n",
    "    \n",
    "    global secret_number\n",
    "    global i\n",
    "    i = i-1\n",
    "    \n",
    "        \n",
    "    if(i < 0):\n",
    "        new_game(100)\n",
    "        i = 7\n",
    "        \n",
    "    print(\"----\")\n",
    "    print(\"Guess was : \",n)\n",
    "    \n",
    "    if(n < secret_number) :\n",
    "        #print(\"secret_number\",secret_number)\n",
    "        print(i)\n",
    "        print(\"Higher\")\n",
    "    elif(n > secret_number):\n",
    "        #print(\"secret_number\",secret_number)\n",
    "        print(i)\n",
    "        print(\"Lower\")\n",
    "    else:\n",
    "        print(\"You win!\")\n",
    "        i = 7\n",
    "        print(\"new Start\")\n",
    "    \n",
    "    if(i == 0):\n",
    "        print(\"You loss! secret_number : \", secret_number)\n",
    "        print(\"---------\")\n",
    "    \n",
    "    \n",
    "        \n",
    "\n",
    "    \n",
    "# create frame\n",
    "f = simplegui.create_frame(\"Guess the number\",300,300)\n",
    "\n",
    "\n",
    "# register event handlers for control elements and start frame\n",
    "f.add_button(\"Range is [0,100)\", range100, 120)\n",
    "f.add_button(\"Range is [0,1000)\", range1000, 120)\n",
    "f.add_input(\"input number\",input_guess,120)\n",
    "\n",
    "\n",
    "# call new_game \n",
    "f.start()\n",
    "\n",
    "\n",
    "# always remember to check your completed program against the grading rubric\n"
   ]
  },
  {
   "cell_type": "code",
   "execution_count": null,
   "metadata": {},
   "outputs": [],
   "source": []
  }
 ],
 "metadata": {
  "kernelspec": {
   "display_name": "Python 3",
   "language": "python",
   "name": "python3"
  },
  "language_info": {
   "codemirror_mode": {
    "name": "ipython",
    "version": 3
   },
   "file_extension": ".py",
   "mimetype": "text/x-python",
   "name": "python",
   "nbconvert_exporter": "python",
   "pygments_lexer": "ipython3",
   "version": "3.6.5"
  }
 },
 "nbformat": 4,
 "nbformat_minor": 2
}
