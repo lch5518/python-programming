{
 "cells": [
  {
   "cell_type": "markdown",
   "metadata": {},
   "source": [
    "# wk02_ Project_X:  숫자 맞추기 (사람이 숫자를 생각하고 컴퓨터가 맞추기)"
   ]
  },
  {
   "cell_type": "markdown",
   "metadata": {},
   "source": [
    "### 20140736<br>이창현"
   ]
  },
  {
   "cell_type": "markdown",
   "metadata": {},
   "source": [
    "버튼: higher, lower, correct<br>\n",
    "범위[0,100)과 [0,1000)은  컴퓨터가 랜덤하게 선택<br>\n",
    "나머지는 변함없음.<br>"
   ]
  },
  {
   "cell_type": "markdown",
   "metadata": {},
   "source": [
    "컴퓨터는 항상 좁혀진 범위 내의 숫자를 선택하여야 한다.  \n",
    "예를 들어 범위 [0,100)을 선택하고, 컴퓨터가  첫번째 guessing number 로 30을 선택한 경우, 플레이어가 lower 버튼을 누르면,\n",
    "컴퓨터는 (0,29) 범위에서 숫자를 선택하여야 한다.  "
   ]
  },
  {
   "cell_type": "markdown",
   "metadata": {},
   "source": [
    "[0,100)은 최대 7회, [0,1000)은 최대 10회 시도 할 수 있으며, 최대 시도 횟수를 넘게되면, 컴퓨터가 진다.<br><br><br>"
   ]
  },
  {
   "cell_type": "markdown",
   "metadata": {},
   "source": [
    "**컴퓨터의 정수 선택 방법**  \n",
    "\n",
    "(기본 값) 범위안에서 랜덤하게 정수 선택. \n",
    "\n",
    "한남이 버튼: 범위의 중간값에 가장 가까운 정수 선택<br> <br><br>"
   ]
  },
  {
   "cell_type": "markdown",
   "metadata": {},
   "source": [
    "* 기간 : 3/20(수) 밤 11:59분까지 하이포탈"
   ]
  },
  {
   "cell_type": "markdown",
   "metadata": {},
   "source": [
    "###  또는 새로운 응용 아이디어를 코딩"
   ]
  },
  {
   "cell_type": "code",
   "execution_count": null,
   "metadata": {},
   "outputs": [
    {
     "name": "stdout",
     "output_type": "stream",
     "text": [
      "pygame 1.9.4\n",
      "Hello from the pygame community. https://www.pygame.org/contribute.html\n",
      "0 이상 100 미만의 임의의 수\n",
      "Game start\n",
      "guessing number =  58\n",
      "higher\n",
      "guessing number =  70\n",
      "남은 기회 :  7\n",
      "----------------\n",
      "Hannam\n",
      "70 100 59\n"
     ]
    }
   ],
   "source": [
    "import SimpleGUICS2Pygame.simpleguics2pygame as simplegui\n",
    "import random\n",
    "\n",
    "# gn : guessing number, gnh : guessing number higher, gnl : guessing number lower\n",
    "\n",
    "i = 0\n",
    "\n",
    "def new_game(guess):\n",
    "    global gn, gnh, gnl\n",
    "    gnh = 100\n",
    "    gnl = 0\n",
    "    print(\"Game start\")\n",
    "    n = int(guess)\n",
    "    gn = random.randrange(0,n)    \n",
    "    \n",
    "\n",
    "def range100():\n",
    "    global gn, i\n",
    "    print(\"0 이상 100 미만의 임의의 수\")\n",
    "    new_game(100)\n",
    "    i = 7\n",
    "    print(\"guessing number = \", gn)\n",
    "    \n",
    "\n",
    "def range1000():\n",
    "    global gn, i\n",
    "    print(\"0 이상 1000 미만의 임의의 수\")\n",
    "    new_game(1000)\n",
    "    i = 10\n",
    "    print(\"guessing number = \", gn)\n",
    "    \n",
    "\n",
    "\n",
    "\n",
    "def output():\n",
    "    global gn, i\n",
    "    print(\"guessing number = \", gn)\n",
    "    print(\"남은 기회 : \",i)\n",
    "    print(\"----------------\")\n",
    "    \n",
    "\n",
    "def higher():\n",
    "    global gn, gnh, gnl, i\n",
    "    print(\"higher\")\n",
    "    if(gn < 0 or gn > 99):\n",
    "        print(\"\")\n",
    "        print(\"정답이 없습니다.\")\n",
    "        print(\"\")\n",
    "        range100()\n",
    "    gnl = gn + 1\n",
    "    if(gn == gnh):\n",
    "        gnh -= 1\n",
    "    gn = random.randrange(gn,gnh) + 1\n",
    "    while(gn == 100):\n",
    "        gn = random.randrange(gn,gnh) + 1\n",
    "    output()\n",
    "    i -= 1\n",
    "    \n",
    "    if(i < 0):\n",
    "        print(\"횟수 초과ㅠ\")\n",
    "        print(\"\")\n",
    "        print(\"restart\")\n",
    "        range100()\n",
    "        \n",
    "    \n",
    "    \n",
    "def lower():\n",
    "    global gn, gnh, gnl, i\n",
    "    print(\"lower\")\n",
    "    if(gn < 0 or gn > 99):\n",
    "        print(\"\")\n",
    "        print(\"정답이 없습니다.\")\n",
    "        print(\"\")\n",
    "        range100()\n",
    "    gnh = gn-1\n",
    "    if(gn == gnl):\n",
    "        gnl += 1\n",
    "    gn = random.randrange(gnl,gn) - 1\n",
    "    while(gnl == -1):\n",
    "        gn = random.randrange(gnl,gn) - 1\n",
    "    output()\n",
    "    i -= 1\n",
    "    \n",
    "    if(i < 1):\n",
    "        print(\"횟수 초과ㅠ\")\n",
    "        print(\"\")\n",
    "        print(\"restart\")\n",
    "        range100()\n",
    "        \n",
    "def hannam():\n",
    "    global gn, gnh, gnl, i\n",
    "    print(\"Hannam\")\n",
    "    if(gn < 0 or gn > 99):\n",
    "        print(\"\")\n",
    "        print(\"정답이 없습니다.\")\n",
    "        print(\"\")\n",
    "        range100()\n",
    "    if(gn < gnh):\n",
    "        print(\"요기 하다 말음..!!\")\n",
    "    print(\"gn: \", gn,\"gnh: \", gnh,\"gnl : \", gnl)\n",
    "    \n",
    "    if(i < 1):\n",
    "        print(\"횟수 초과ㅠ\")\n",
    "        print(\"\")\n",
    "        print(\"restart\")\n",
    "        range100()\n",
    "        \n",
    "def correct():\n",
    "    global gn\n",
    "    print(\"Correct!!!!! [\",gn,\"]\")\n",
    "    \n",
    "    \n",
    "    \n",
    "f = simplegui.create_frame(\"up down game\",300,300)\n",
    "\n",
    "    \n",
    "f.add_button(\"Range [0,100) Start\", range100, 150)\n",
    "f.add_button(\"Range [0,1000) Start\", range1000, 150)\n",
    "f.add_button(\"Hanman_Button\", hannam, 150)\n",
    "f.add_button(\"higher\", higher, 100)\n",
    "f.add_button(\"lower\", lower, 100)\n",
    "f.add_button(\"Correct\", correct, 100)\n",
    "\n",
    "\n",
    "f.start()"
   ]
  },
  {
   "cell_type": "code",
   "execution_count": null,
   "metadata": {},
   "outputs": [],
   "source": []
  }
 ],
 "metadata": {
  "kernelspec": {
   "display_name": "Python 3",
   "language": "python",
   "name": "python3"
  },
  "language_info": {
   "codemirror_mode": {
    "name": "ipython",
    "version": 3
   },
   "file_extension": ".py",
   "mimetype": "text/x-python",
   "name": "python",
   "nbconvert_exporter": "python",
   "pygments_lexer": "ipython3",
   "version": "3.6.5"
  }
 },
 "nbformat": 4,
 "nbformat_minor": 2
}
